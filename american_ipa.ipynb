{
 "cells": [
  {
   "cell_type": "code",
   "execution_count": 5,
   "metadata": {},
   "outputs": [],
   "source": [
    "import sys\n",
    "sys.path.append('./')\n",
    "from cans import Cans\n",
    "\n",
    "from IPython import display                                                                                                                                              "
   ]
  },
  {
   "cell_type": "markdown",
   "metadata": {},
   "source": [
    "# American IPA<br/>\n",
    "27 October 2021 04:00 PM MDT, sunny and windy, high 57F, low 42F<br/>\n",
    "Target gravity: 1.074\n",
    "\n",
    "Actual specific gravity: 1.074<br/>\n",
    "Actual mash temperature: 153F"
   ]
  },
  {
   "cell_type": "code",
   "execution_count": 6,
   "metadata": {},
   "outputs": [
    {
     "name": "stdout",
     "output_type": "stream",
     "text": [
      "Adding 7.0 lb(s) of 2-row to mash bill\n",
      "Adding 1.0 lb(s) of crystal-40 to mash bill\n",
      "Adding 1.0 lb(s) of munich-10 to mash bill\n",
      "Adding 1.0 lb(s) of white-wheat to mash bill\n"
     ]
    }
   ],
   "source": [
    "american_ipa = Cans(beer_style = 'ipa',\n",
    "                    batch_size_gal = 2.5,\n",
    "                    boil_time_min = 60.0,\n",
    "                    mash_temperature_f = 151.,\n",
    "                    grain_temperature_f = 64.)\n",
    "\n",
    "# grains\n",
    "american_ipa.add_grains('2-row', weight_lb = 7.0)\n",
    "american_ipa.add_grains('crystal-40', weight_lb = 1.0)\n",
    "american_ipa.add_grains('munich-10', weight_lb = 1.0)\n",
    "american_ipa.add_grains('white-wheat', weight_lb = 1.0)"
   ]
  },
  {
   "cell_type": "code",
   "execution_count": 7,
   "metadata": {},
   "outputs": [
    {
     "name": "stdout",
     "output_type": "stream",
     "text": [
      "Total grain weight is 10.0 lbs\n",
      "Target original gravity is 1.075\n",
      "\n",
      "7.0 lb(s) of 2-row (70.0%)\n",
      "1.0 lb(s) of crystal-40 (10.0%)\n",
      "1.0 lb(s) of munich-10 (10.0%)\n",
      "1.0 lb(s) of white-wheat (10.0%)\n",
      "\n",
      "Strike water volume is 4.5 gallons\n",
      "Total mash volume is 5.3 gallons\n",
      "Boil volume is 3.4 gallons\n",
      "Strike water temperature is 160.1 F\n"
     ]
    }
   ],
   "source": [
    "american_ipa.calculate_brewing()"
   ]
  },
  {
   "cell_type": "code",
   "execution_count": 8,
   "metadata": {},
   "outputs": [
    {
     "name": "stdout",
     "output_type": "stream",
     "text": [
      "\n",
      "SRM is 15.0, beer color will be approximately:\n"
     ]
    },
    {
     "data": {
      "image/jpeg": "[encoded data removed]",
      "text/plain": [
       "<IPython.core.display.Image object>"
      ]
     },
     "execution_count": 8,
     "metadata": {},
     "output_type": "execute_result"
    }
   ],
   "source": [
    "img = american_ipa.calculate_color()\n",
    "display.Image(img)"
   ]
  }
 ],
 "metadata": {
  "kernelspec": {
   "display_name": "Python 3",
   "language": "python",
   "name": "python3"
  },
  "language_info": {
   "codemirror_mode": {
    "name": "ipython",
    "version": 3
   },
   "file_extension": ".py",
   "mimetype": "text/x-python",
   "name": "python",
   "nbconvert_exporter": "python",
   "pygments_lexer": "ipython3",
   "version": "3.8.7"
  }
 },
 "nbformat": 4,
 "nbformat_minor": 4
}
